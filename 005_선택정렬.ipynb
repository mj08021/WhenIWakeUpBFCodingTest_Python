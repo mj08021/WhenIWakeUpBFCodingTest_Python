{
 "cells": [
  {
   "cell_type": "code",
   "execution_count": 5,
   "metadata": {},
   "outputs": [
    {
     "name": "stdout",
     "output_type": "stream",
     "text": [
      "[5]\n",
      "[10, 66, 77, 54, 32, 11, 15]\n",
      "-------------\n",
      "[5, 10]\n",
      "[66, 77, 54, 32, 11, 15]\n",
      "-------------\n",
      "[5, 10, 11]\n",
      "[66, 77, 54, 32, 15]\n",
      "-------------\n",
      "[5, 10, 11, 15]\n",
      "[66, 77, 54, 32]\n",
      "-------------\n",
      "[5, 10, 11, 15, 32]\n",
      "[66, 77, 54]\n",
      "-------------\n",
      "[5, 10, 11, 15, 32, 54]\n",
      "[66, 77]\n",
      "-------------\n",
      "[5, 10, 11, 15, 32, 54, 66]\n",
      "[77]\n",
      "-------------\n",
      "[5, 10, 11, 15, 32, 54, 66, 77]\n",
      "[]\n",
      "-------------\n",
      "-최종값-\n",
      "[5, 10, 11, 15, 32, 54, 66, 77]\n",
      "[]\n"
     ]
    }
   ],
   "source": [
    "# 선택정렬\n",
    "입력값 = [5, 10, 66, 77, 54, 32, 11, 15]\n",
    "정렬된리스트 = []\n",
    "\n",
    "\n",
    "while 입력값 :\n",
    "    정렬된리스트.append(min(입력값))\n",
    "    입력값.pop(입력값.index(min(입력값)))\n",
    "    print(정렬된리스트)\n",
    "    print(입력값)\n",
    "    print('-------------')\n",
    "\n",
    "print('-최종값-')\n",
    "print(정렬된리스트)\n",
    "print(입력값)\n"
   ]
  },
  {
   "cell_type": "code",
   "execution_count": 22,
   "metadata": {},
   "outputs": [
    {
     "name": "stdout",
     "output_type": "stream",
     "text": [
      "1\n"
     ]
    }
   ],
   "source": [
    "입력값 = [5, 10, 66, 77, 1, 54, 32, 11, 15, 2]\n",
    "\n",
    "def 최솟값(l):\n",
    "    최소 = l[0]\n",
    "    for i in l :\n",
    "        if 최소 > i:\n",
    "            최소 = i\n",
    "    return 최소\n",
    "\n",
    "print(최솟값(입력값))"
   ]
  },
  {
   "cell_type": "code",
   "execution_count": 26,
   "metadata": {},
   "outputs": [
    {
     "name": "stdout",
     "output_type": "stream",
     "text": [
      "5\n"
     ]
    }
   ],
   "source": [
    "입력값 = [5, 10, 66, 77, 54, 1, 32, 11, 15, 2]\n",
    "\n",
    "def 최솟값의_인덱스(l):\n",
    "    비교값 = l[0]\n",
    "    인덱스 = 0\n",
    "    for i in range(len(l)):\n",
    "        if l[i] < 비교값:\n",
    "            인덱스 = i\n",
    "            비교값 = l[i]\n",
    "    return 인덱스\n",
    "\n",
    "print(최솟값의_인덱스(입력값))"
   ]
  },
  {
   "cell_type": "code",
   "execution_count": null,
   "metadata": {},
   "outputs": [],
   "source": []
  },
  {
   "cell_type": "code",
   "execution_count": null,
   "metadata": {},
   "outputs": [],
   "source": []
  }
 ],
 "metadata": {
  "kernelspec": {
   "display_name": "Python 3",
   "language": "python",
   "name": "python3"
  },
  "language_info": {
   "codemirror_mode": {
    "name": "ipython",
    "version": 3
   },
   "file_extension": ".py",
   "mimetype": "text/x-python",
   "name": "python",
   "nbconvert_exporter": "python",
   "pygments_lexer": "ipython3",
   "version": "3.8.5"
  }
 },
 "nbformat": 4,
 "nbformat_minor": 4
}
