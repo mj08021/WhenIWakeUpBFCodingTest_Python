{
 "cells": [
  {
   "cell_type": "code",
   "execution_count": 1,
   "metadata": {},
   "outputs": [],
   "source": [
    "cross = [[[3, 0, 1, 1, 8],\n",
    "        [5, 0, 4, 5, 4],\n",
    "        [1, 5, 0, 5, 1],\n",
    "        [1, 2, 1, 0, 1],\n",
    "        [0, 2, 5, 1, 1]],\n",
    "        [[1, 2, 0, 3, 3],\n",
    "        [1, 2, 0, 2, 4],\n",
    "        [1, 2, 0, 2, 4],\n",
    "        [4, 2, 0, 0, 1],\n",
    "        [8, 4, 1, 1, 0]]]"
   ]
  },
  {
   "cell_type": "code",
   "execution_count": 22,
   "metadata": {},
   "outputs": [
    {
     "data": {
      "text/plain": [
       "[[3, 0, 1, 1, 8],\n",
       " [5, 0, 4, 5, 4],\n",
       " [1, 5, 0, 5, 1],\n",
       " [1, 2, 1, 0, 1],\n",
       " [0, 2, 5, 1, 1],\n",
       " [1, 2, 0, 3, 3],\n",
       " [1, 2, 0, 2, 4],\n",
       " [1, 2, 0, 2, 4],\n",
       " [4, 2, 0, 0, 1],\n",
       " [8, 4, 1, 1, 0]]"
      ]
     },
     "execution_count": 22,
     "metadata": {},
     "output_type": "execute_result"
    }
   ],
   "source": [
    "cross_ = cross[0] + cross[1]\n",
    "cross_"
   ]
  },
  {
   "cell_type": "code",
   "execution_count": 3,
   "metadata": {},
   "outputs": [
    {
     "data": {
      "text/plain": [
       "8"
      ]
     },
     "execution_count": 3,
     "metadata": {},
     "output_type": "execute_result"
    }
   ],
   "source": [
    "cross_[0]\n",
    "cross_[0][4]"
   ]
  },
  {
   "cell_type": "code",
   "execution_count": 4,
   "metadata": {},
   "outputs": [
    {
     "name": "stdout",
     "output_type": "stream",
     "text": [
      "4\n",
      "3\n",
      "2\n",
      "1\n",
      "0\n"
     ]
    }
   ],
   "source": [
    "for i in range(4, -1, -1):\n",
    "    print(i)"
   ]
  },
  {
   "cell_type": "code",
   "execution_count": 5,
   "metadata": {},
   "outputs": [
    {
     "name": "stdout",
     "output_type": "stream",
     "text": [
      "0 4 8\n",
      "0 3 1\n",
      "0 2 1\n",
      "0 1 0\n",
      "0 0 3\n",
      "1 4 4\n",
      "1 3 5\n",
      "1 2 4\n",
      "1 1 0\n",
      "1 0 5\n",
      "2 4 1\n",
      "2 3 5\n",
      "2 2 0\n",
      "2 1 5\n",
      "2 0 1\n",
      "3 4 1\n",
      "3 3 0\n",
      "3 2 1\n",
      "3 1 2\n",
      "3 0 1\n",
      "4 4 1\n",
      "4 3 1\n",
      "4 2 5\n",
      "4 1 2\n",
      "4 0 0\n",
      "5 4 3\n",
      "5 3 3\n",
      "5 2 0\n",
      "5 1 2\n",
      "5 0 1\n",
      "6 4 4\n",
      "6 3 2\n",
      "6 2 0\n",
      "6 1 2\n",
      "6 0 1\n",
      "7 4 4\n",
      "7 3 2\n",
      "7 2 0\n",
      "7 1 2\n",
      "7 0 1\n",
      "8 4 1\n",
      "8 3 0\n",
      "8 2 0\n",
      "8 1 2\n",
      "8 0 4\n",
      "9 4 0\n",
      "9 3 1\n",
      "9 2 1\n",
      "9 1 4\n",
      "9 0 8\n"
     ]
    }
   ],
   "source": [
    "for i in range(len(cross_)):\n",
    "    for j in range(4, -1, -1):\n",
    "        print(i, j, cross_[i][j])"
   ]
  },
  {
   "cell_type": "code",
   "execution_count": 13,
   "metadata": {},
   "outputs": [
    {
     "data": {
      "text/plain": [
       "[[0, 0, 0, 0, 0],\n",
       " [0, 0, 0, 0, 0],\n",
       " [0, 0, 0, 0, 0],\n",
       " [0, 0, 0, 0, 0],\n",
       " [0, 0, 0, 0, 0]]"
      ]
     },
     "execution_count": 13,
     "metadata": {},
     "output_type": "execute_result"
    }
   ],
   "source": [
    "c = [[3, 0, 1, 1, 8],\n",
    "           [5, 0, 4, 5, 4],\n",
    "           [1, 5, 0, 5, 1],\n",
    "           [1, 2, 1, 0, 1],\n",
    "           [8, 2, 5, 1, 1]]\n",
    "\n",
    "가중치누적값 = [[0 for i in range(5)] for i in range(5)]\n",
    "가중치누적값"
   ]
  },
  {
   "cell_type": "code",
   "execution_count": 14,
   "metadata": {},
   "outputs": [
    {
     "data": {
      "text/plain": [
       "[[3, 3, 4, 5, 13],\n",
       " [8, 3, 7, 10, 14],\n",
       " [9, 8, 7, 12, 13],\n",
       " [10, 10, 8, 8, 9],\n",
       " [18, 12, 13, 9, 10]]"
      ]
     },
     "execution_count": 14,
     "metadata": {},
     "output_type": "execute_result"
    }
   ],
   "source": [
    "for i in range(5):\n",
    "    for j in range(5):\n",
    "        if i == 0 and j == 0:\n",
    "            가중치누적값[0][0] = c[0][0]\n",
    "        elif i == 0:\n",
    "            가중치누적값[i][j] = 가중치누적값[i][j-1] + c[i][j]\n",
    "        elif j == 0:\n",
    "            가중치누적값[i][j] = 가중치누적값[i-1][j] + c[i][j]\n",
    "        else:\n",
    "            가중치누적값[i][j] = min(가중치누적값[i][j-1], 가중치누적값[i-1][j]) + c[i][j]\n",
    "가중치누적값"
   ]
  },
  {
   "cell_type": "code",
   "execution_count": 15,
   "metadata": {},
   "outputs": [
    {
     "data": {
      "text/plain": [
       "([[3, 0, 1, 1, 8],\n",
       "  [5, 0, 4, 5, 4],\n",
       "  [1, 5, 0, 5, 1],\n",
       "  [1, 2, 1, 0, 1],\n",
       "  [8, 2, 5, 1, 1]],\n",
       " [[3, 3, 4, 5, 13],\n",
       "  [8, 3, 7, 10, 14],\n",
       "  [9, 8, 7, 12, 13],\n",
       "  [10, 10, 8, 8, 9],\n",
       "  [18, 12, 13, 9, 10]])"
      ]
     },
     "execution_count": 15,
     "metadata": {},
     "output_type": "execute_result"
    }
   ],
   "source": [
    "c, 가중치누적값"
   ]
  },
  {
   "cell_type": "code",
   "execution_count": 16,
   "metadata": {},
   "outputs": [
    {
     "data": {
      "text/plain": [
       "[[[0, 0], [0, 0], [0, 0], [0, 0], [0, 0]],\n",
       " [[0, 0], [0, 0], [0, 0], [0, 0], [0, 0]],\n",
       " [[0, 0], [0, 0], [0, 0], [0, 0], [0, 0]],\n",
       " [[0, 0], [0, 0], [0, 0], [0, 0], [0, 0]],\n",
       " [[0, 0], [0, 0], [0, 0], [0, 0], [0, 0]]]"
      ]
     },
     "execution_count": 16,
     "metadata": {},
     "output_type": "execute_result"
    }
   ],
   "source": [
    "[[[0,0] for i in range(5)] for j in range(5)]"
   ]
  },
  {
   "cell_type": "code",
   "execution_count": 9,
   "metadata": {},
   "outputs": [
    {
     "data": {
      "text/plain": [
       "[[[None, None, None], [None, None, None], [None, None, None]],\n",
       " [[None, None, None], [None, None, None], [None, None, None]]]"
      ]
     },
     "execution_count": 9,
     "metadata": {},
     "output_type": "execute_result"
    }
   ],
   "source": [
    "x = [[[None]*3]*3]*2\n",
    "x"
   ]
  },
  {
   "cell_type": "code",
   "execution_count": 10,
   "metadata": {},
   "outputs": [],
   "source": [
    "x[0][0][0] = 1000"
   ]
  },
  {
   "cell_type": "code",
   "execution_count": 11,
   "metadata": {},
   "outputs": [
    {
     "data": {
      "text/plain": [
       "[[[1000, None, None], [1000, None, None], [1000, None, None]],\n",
       " [[1000, None, None], [1000, None, None], [1000, None, None]]]"
      ]
     },
     "execution_count": 11,
     "metadata": {},
     "output_type": "execute_result"
    }
   ],
   "source": [
    "x"
   ]
  },
  {
   "cell_type": "code",
   "execution_count": 18,
   "metadata": {},
   "outputs": [
    {
     "data": {
      "text/plain": [
       "[[[0, 0], (0, [0]), (0, [1]), (0, [2]), (0, [3])],\n",
       " [[0, 0], [0, 1], [1, 1], [0, 3], [1, 3]],\n",
       " [[1, 0], [1, 1], [1, 2], [2, 2], [2, 3]],\n",
       " [[2, 0], [2, 1], [2, 2], [3, 2], [3, 3]],\n",
       " [[3, 0], [3, 1], [3, 2], [3, 3], [4, 3]]]"
      ]
     },
     "execution_count": 18,
     "metadata": {},
     "output_type": "execute_result"
    }
   ],
   "source": [
    "c = [[3, 0, 1, 1, 8],\n",
    "           [5, 0, 4, 5, 4],\n",
    "           [1, 5, 0, 5, 1],\n",
    "           [1, 2, 1, 0, 1],\n",
    "           [8, 2, 5, 1, 1]]\n",
    "\n",
    "가중치누적값 = [[0 for i in range(5)] for i in range(5)]\n",
    "좌표저장 = [[[0,0] for i in range(5)] for j in range(5)]\n",
    "\n",
    "for i in range(5):\n",
    "    for j in range(5):\n",
    "        if i == 0 and j == 0:\n",
    "            가중치누적값[0][0] = c[0][0]\n",
    "            좌표저장[i][j] = [i, j]\n",
    "        elif i == 0:\n",
    "            가중치누적값[i][j] = 가중치누적값[i][j-1] + c[i][j]\n",
    "            좌표저장[i][j] = [i, j-1]\n",
    "        elif j == 0:\n",
    "            가중치누적값[i][j] = 가중치누적값[i-1][j] + c[i][j]\n",
    "            좌표저장[i][j] = [i-1, j]\n",
    "        else:\n",
    "            if 가중치누적값[i][j-1] > 가중치누적값[i-1][j]:\n",
    "                가중치누적값[i][j] = 가중치누적값[i-1][j] + c[i][j]\n",
    "                좌표저장[i][j] = [i-1, j]\n",
    "            else:\n",
    "                가중치누적값[i][j] = 가중치누적값[i][j-1] + c[i][j]\n",
    "                좌표저장[i][j] = [i, j-1]\n",
    "가중치누적값\n",
    "좌표저장"
   ]
  },
  {
   "cell_type": "code",
   "execution_count": 19,
   "metadata": {},
   "outputs": [
    {
     "data": {
      "text/plain": [
       "[[[0, 0], [0, 0], [0, 0], [0, 0], [0, 0]],\n",
       " [[0, 0], [0, 0], [0, 0], [0, 0], [0, 0]],\n",
       " [[0, 0], [0, 0], [0, 0], [0, 0], [0, 0]],\n",
       " [[0, 0], [0, 0], [0, 0], [0, 0], [0, 0]],\n",
       " [[0, 0], [0, 0], [0, 0], [0, 0], [0, 0]],\n",
       " [[0, 0], [0, 0], [0, 0], [0, 0], [0, 0]],\n",
       " [[0, 0], [0, 0], [0, 0], [0, 0], [0, 0]],\n",
       " [[0, 0], [0, 0], [0, 0], [0, 0], [0, 0]],\n",
       " [[0, 0], [0, 0], [0, 0], [0, 0], [0, 0]],\n",
       " [[0, 0], [0, 0], [0, 0], [0, 0], [0, 0]]]"
      ]
     },
     "execution_count": 19,
     "metadata": {},
     "output_type": "execute_result"
    }
   ],
   "source": [
    "[[[0,0] for i in range(5)] for j in range(len(cross_))]"
   ]
  },
  {
   "cell_type": "code",
   "execution_count": 30,
   "metadata": {},
   "outputs": [
    {
     "name": "stdout",
     "output_type": "stream",
     "text": [
      "0 4\n",
      "0 3\n",
      "0 2\n",
      "0 1\n",
      "0 0\n",
      "1 4\n",
      "1 3\n",
      "1 2\n",
      "1 1\n",
      "1 0\n",
      "2 4\n",
      "2 3\n",
      "2 2\n",
      "2 1\n",
      "2 0\n",
      "3 4\n",
      "3 3\n",
      "3 2\n",
      "3 1\n",
      "3 0\n",
      "4 4\n",
      "4 3\n",
      "4 2\n",
      "4 1\n",
      "4 0\n",
      "5 4\n",
      "5 3\n",
      "5 2\n",
      "5 1\n",
      "5 0\n",
      "6 4\n",
      "6 3\n",
      "6 2\n",
      "6 1\n",
      "6 0\n",
      "7 4\n",
      "7 3\n",
      "7 2\n",
      "7 1\n",
      "7 0\n",
      "8 4\n",
      "8 3\n",
      "8 2\n",
      "8 1\n",
      "8 0\n",
      "9 4\n",
      "9 3\n",
      "9 2\n",
      "9 1\n",
      "9 0\n"
     ]
    },
    {
     "data": {
      "text/plain": [
       "[[[0, 1], [0, 2], [0, 3], [0, 4], [99, 99]],\n",
       " [[1, 1], [0, 1], [0, 2], [0, 3], [0, 4]],\n",
       " [[2, 1], [1, 1], [1, 2], [2, 4], [1, 4]],\n",
       " [[2, 0], [3, 2], [3, 3], [3, 4], [2, 4]],\n",
       " [[3, 0], [3, 1], [4, 3], [3, 3], [3, 4]],\n",
       " [[4, 0], [5, 2], [5, 3], [4, 3], [4, 4]],\n",
       " [[5, 0], [6, 2], [5, 2], [5, 3], [5, 4]],\n",
       " [[6, 0], [7, 2], [6, 2], [6, 3], [6, 4]],\n",
       " [[8, 1], [8, 2], [7, 2], [7, 3], [7, 4]],\n",
       " [[9, 1], [9, 2], [8, 2], [8, 3], [8, 4]]]"
      ]
     },
     "execution_count": 30,
     "metadata": {},
     "output_type": "execute_result"
    }
   ],
   "source": [
    "\n",
    "가중치누적값 = [[0 for i in range(5)] for i in range(len(cross_))]\n",
    "좌표저장 = [[[0,0] for i in range(5)] for j in range(len(cross_))]\n",
    "\n",
    "for i in range(len(cross_)):\n",
    "    for j in range(4, -1, -1):\n",
    "        print(i,j)\n",
    "        if i == 0 and j == 4:\n",
    "            가중치누적값[0][4] = c[0][4]\n",
    "            좌표저장[i][j] = [99, 99]\n",
    "        elif i == 0:\n",
    "            가중치누적값[i][j] = 가중치누적값[i][j+1] + cross_[i][j]\n",
    "            좌표저장[i][j] = [i, j+1]\n",
    "        elif j == 4:\n",
    "            가중치누적값[i][j] = 가중치누적값[i-1][j] + cross_[i][j]\n",
    "            좌표저장[i][j] = [i-1, j]\n",
    "        else:\n",
    "            if 가중치누적값[i][j+1] > 가중치누적값[i-1][j]:\n",
    "                가중치누적값[i][j] = 가중치누적값[i-1][j] + cross_[i][j]\n",
    "                좌표저장[i][j] = [i-1, j]\n",
    "            else:\n",
    "                가중치누적값[i][j] = 가중치누적값[i][j+1] + cross_[i][j]\n",
    "                좌표저장[i][j] = [i, j+1]\n",
    "가중치누적값\n",
    "좌표저장"
   ]
  },
  {
   "cell_type": "code",
   "execution_count": 31,
   "metadata": {},
   "outputs": [
    {
     "data": {
      "text/plain": [
       "([[13, 10, 10, 9, 8],\n",
       "  [15, 10, 14, 14, 12],\n",
       "  [16, 15, 14, 18, 13],\n",
       "  [17, 17, 15, 14, 14],\n",
       "  [17, 19, 20, 15, 15],\n",
       "  [18, 20, 18, 18, 18],\n",
       "  [19, 20, 18, 20, 22],\n",
       "  [20, 20, 18, 22, 26],\n",
       "  [24, 20, 18, 22, 27],\n",
       "  [31, 23, 19, 23, 27]],\n",
       " [[3, 0, 1, 1, 8],\n",
       "  [5, 0, 4, 5, 4],\n",
       "  [1, 5, 0, 5, 1],\n",
       "  [1, 2, 1, 0, 1],\n",
       "  [0, 2, 5, 1, 1],\n",
       "  [1, 2, 0, 3, 3],\n",
       "  [1, 2, 0, 2, 4],\n",
       "  [1, 2, 0, 2, 4],\n",
       "  [4, 2, 0, 0, 1],\n",
       "  [8, 4, 1, 1, 0]])"
      ]
     },
     "execution_count": 31,
     "metadata": {},
     "output_type": "execute_result"
    }
   ],
   "source": [
    "가중치누적값, cross_"
   ]
  },
  {
   "cell_type": "code",
   "execution_count": 32,
   "metadata": {},
   "outputs": [
    {
     "data": {
      "text/plain": [
       "[[[0, 1], [0, 2], [0, 3], [0, 4], [99, 99]],\n",
       " [[1, 1], [0, 1], [0, 2], [0, 3], [0, 4]],\n",
       " [[2, 1], [1, 1], [1, 2], [2, 4], [1, 4]],\n",
       " [[2, 0], [3, 2], [3, 3], [3, 4], [2, 4]],\n",
       " [[3, 0], [3, 1], [4, 3], [3, 3], [3, 4]],\n",
       " [[4, 0], [5, 2], [5, 3], [4, 3], [4, 4]],\n",
       " [[5, 0], [6, 2], [5, 2], [5, 3], [5, 4]],\n",
       " [[6, 0], [7, 2], [6, 2], [6, 3], [6, 4]],\n",
       " [[8, 1], [8, 2], [7, 2], [7, 3], [7, 4]],\n",
       " [[9, 1], [9, 2], [8, 2], [8, 3], [8, 4]]]"
      ]
     },
     "execution_count": 32,
     "metadata": {},
     "output_type": "execute_result"
    }
   ],
   "source": [
    "좌표저장"
   ]
  },
  {
   "cell_type": "code",
   "execution_count": 33,
   "metadata": {},
   "outputs": [
    {
     "data": {
      "text/plain": [
       "[9, 1]"
      ]
     },
     "execution_count": 33,
     "metadata": {},
     "output_type": "execute_result"
    }
   ],
   "source": [
    "좌표저장[len(cross_)-1][0]"
   ]
  },
  {
   "cell_type": "code",
   "execution_count": 35,
   "metadata": {},
   "outputs": [
    {
     "name": "stdout",
     "output_type": "stream",
     "text": [
      "9 1\n",
      "9 2\n",
      "8 2\n",
      "7 2\n",
      "6 2\n",
      "5 2\n",
      "5 3\n",
      "4 3\n",
      "3 3\n",
      "3 4\n",
      "2 4\n",
      "1 4\n",
      "0 4\n"
     ]
    }
   ],
   "source": [
    "k = 0\n",
    "while True:\n",
    "    if k == 0:\n",
    "        i, j = 좌표저장[len(cross_)-1][0]\n",
    "    else:\n",
    "        i, j = 좌표저장[i][j]\n",
    "    if i == 99 and j == 99:\n",
    "        break\n",
    "    k += 1\n",
    "    print(i,j)"
   ]
  },
  {
   "cell_type": "code",
   "execution_count": 41,
   "metadata": {},
   "outputs": [
    {
     "name": "stdout",
     "output_type": "stream",
     "text": [
      " C 드라이브의 볼륨에는 이름이 없습니다.\n",
      " 볼륨 일련 번호: B03A-4606\n",
      "\n",
      " C:\\Users\\K\\눈떠보니 코딩 테스트 전날 디렉터리\n",
      "\n",
      "2020-11-14  오전 01:12    <DIR>          .\n",
      "2020-11-14  오전 01:12    <DIR>          ..\n",
      "2020-11-13  오후 11:39    <DIR>          .ipynb_checkpoints\n",
      "2020-10-25  오후 03:35             6,773 문제1_암호해독.ipynb\n",
      "2020-10-25  오후 07:12             6,630 문제2_JAVA독과 함께.ipynb\n",
      "2020-10-27  오후 10:28             7,712 문제3_섬으로 건너가라.ipynb\n",
      "2020-10-31  오후 06:55             2,011 문제4_자리를 양보해가며.ipynb\n",
      "2020-11-02  오후 10:19             6,041 문제5_그림자연결.ipynb\n",
      "2020-11-03  오후 10:24             5,220 문제6_밭의비밀.ipynb\n",
      "2020-11-14  오전 01:12            16,218 문제7_Eureka!.ipynb\n",
      "               7개 파일              50,605 바이트\n",
      "               3개 디렉터리  17,824,870,400 바이트 남음\n"
     ]
    }
   ],
   "source": [
    "!dir"
   ]
  },
  {
   "cell_type": "code",
   "execution_count": null,
   "metadata": {},
   "outputs": [],
   "source": []
  }
 ],
 "metadata": {
  "kernelspec": {
   "display_name": "Python 3",
   "language": "python",
   "name": "python3"
  },
  "language_info": {
   "codemirror_mode": {
    "name": "ipython",
    "version": 3
   },
   "file_extension": ".py",
   "mimetype": "text/x-python",
   "name": "python",
   "nbconvert_exporter": "python",
   "pygments_lexer": "ipython3",
   "version": "3.8.5"
  }
 },
 "nbformat": 4,
 "nbformat_minor": 4
}
