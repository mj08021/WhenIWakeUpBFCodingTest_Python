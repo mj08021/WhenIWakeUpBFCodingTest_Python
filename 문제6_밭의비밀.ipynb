{
 "cells": [
  {
   "cell_type": "code",
   "execution_count": 1,
   "metadata": {},
   "outputs": [],
   "source": [
    "import numpy as np\n",
    "\n",
    "첫번째밭 = [\n",
    "    [1, 0, 0, 0, 0],\n",
    "    [0, 0, 1, 0, 1],\n",
    "    [0, 0, 1, 0, 1],\n",
    "    [0, 0, 1, 0, 1],\n",
    "    [0, 0, 1, 0, 1]\n",
    "]\n",
    "\n",
    "두번째밭 = [\n",
    "    [0, 0, 0, 0, 1],\n",
    "    [0, 0, 0, 0, 3],\n",
    "    [0, 0, 0, 0, 4],\n",
    "    [0, 2, 0, 0, 2],\n",
    "    [4, 5, 0, 2, 0]\n",
    "]"
   ]
  },
  {
   "cell_type": "code",
   "execution_count": 2,
   "metadata": {},
   "outputs": [
    {
     "data": {
      "text/plain": [
       "array([[2, 3, 4, 2, 0],\n",
       "       [0, 0, 1, 0, 3],\n",
       "       [0, 0, 1, 0, 1],\n",
       "       [0, 0, 1, 2, 6],\n",
       "       [0, 0, 1, 0, 5]])"
      ]
     },
     "execution_count": 2,
     "metadata": {},
     "output_type": "execute_result"
    }
   ],
   "source": [
    "np.rot90(두번째밭, 1) + np.array(첫번째밭)"
   ]
  },
  {
   "cell_type": "code",
   "execution_count": 3,
   "metadata": {},
   "outputs": [
    {
     "data": {
      "text/plain": [
       "'23420'"
      ]
     },
     "execution_count": 3,
     "metadata": {},
     "output_type": "execute_result"
    }
   ],
   "source": [
    "정답 = np.rot90(두번째밭, 1) + np.array(첫번째밭)\n",
    "''.join([str(i) for i in  정답[0]])"
   ]
  },
  {
   "cell_type": "code",
   "execution_count": 4,
   "metadata": {},
   "outputs": [
    {
     "data": {
      "text/plain": [
       "10000"
      ]
     },
     "execution_count": 4,
     "metadata": {},
     "output_type": "execute_result"
    }
   ],
   "source": [
    "int(''.join([str(i) for i in  정답[0]]), 8)"
   ]
  },
  {
   "cell_type": "code",
   "execution_count": 7,
   "metadata": {},
   "outputs": [
    {
     "name": "stdout",
     "output_type": "stream",
     "text": [
      "✐\n",
      "C\n",
      "A\n",
      "V\n",
      "E\n"
     ]
    }
   ],
   "source": [
    "for k in range(5):\n",
    "    print(chr(int(''.join([str(i) for i in  정답[k]]), 8)))"
   ]
  },
  {
   "cell_type": "code",
   "execution_count": 14,
   "metadata": {},
   "outputs": [],
   "source": [
    "sample = [\n",
    "    [0, 0, 0, 0, 0],\n",
    "    [0, 0, 0, 0, 0],\n",
    "    [0, 0, 0, 0, 0],\n",
    "    [0, 0, 0, 0, 0],\n",
    "    [0, 0, 0, 0, 0]\n",
    "]\n",
    "\n",
    "첫번째밭 = [\n",
    "    [1, 0, 0, 0, 0],\n",
    "    [0, 0, 1, 0, 1],\n",
    "    [0, 0, 1, 0, 1],\n",
    "    [0, 0, 1, 0, 1],\n",
    "    [0, 0, 1, 0, 1]\n",
    "]\n",
    "\n",
    "두번째밭 = [\n",
    "    [0, 0, 0, 0, 1],\n",
    "    [0, 0, 0, 0, 3],\n",
    "    [0, 0, 0, 0, 4],\n",
    "    [0, 2, 0, 0, 2],\n",
    "    [4, 5, 0, 2, 0]\n",
    "]"
   ]
  },
  {
   "cell_type": "code",
   "execution_count": 12,
   "metadata": {},
   "outputs": [],
   "source": [
    "x = [[None] * 5]*5"
   ]
  },
  {
   "cell_type": "code",
   "execution_count": 13,
   "metadata": {},
   "outputs": [
    {
     "data": {
      "text/plain": [
       "[[1000, None, None, None, None],\n",
       " [1000, None, None, None, None],\n",
       " [1000, None, None, None, None],\n",
       " [1000, None, None, None, None],\n",
       " [1000, None, None, None, None]]"
      ]
     },
     "execution_count": 13,
     "metadata": {},
     "output_type": "execute_result"
    }
   ],
   "source": [
    "x[0][0] = 1000\n",
    "x"
   ]
  },
  {
   "cell_type": "code",
   "execution_count": 15,
   "metadata": {},
   "outputs": [
    {
     "data": {
      "text/plain": [
       "[[1, 3, 4, 2, 0],\n",
       " [0, 0, 0, 0, 2],\n",
       " [0, 0, 0, 0, 0],\n",
       " [0, 0, 0, 2, 5],\n",
       " [0, 0, 0, 0, 4]]"
      ]
     },
     "execution_count": 15,
     "metadata": {},
     "output_type": "execute_result"
    }
   ],
   "source": [
    "for i in range(len(두번째밭)):\n",
    "    for j in range(len(두번째밭[0])):\n",
    "        sample[i][j] = 두번째밭[j][len(두번째밭)-1-i]\n",
    "sample"
   ]
  },
  {
   "cell_type": "code",
   "execution_count": 16,
   "metadata": {},
   "outputs": [
    {
     "data": {
      "text/plain": [
       "[[2, 3, 4, 2, 0],\n",
       " [0, 0, 1, 0, 3],\n",
       " [0, 0, 1, 0, 1],\n",
       " [0, 0, 1, 2, 6],\n",
       " [0, 0, 1, 0, 5]]"
      ]
     },
     "execution_count": 16,
     "metadata": {},
     "output_type": "execute_result"
    }
   ],
   "source": [
    "for i in range(len(두번째밭)):\n",
    "    for j in range(len(두번째밭[0])):\n",
    "        sample[i][j] += 첫번째밭[i][j]\n",
    "sample"
   ]
  },
  {
   "cell_type": "code",
   "execution_count": null,
   "metadata": {},
   "outputs": [],
   "source": []
  }
 ],
 "metadata": {
  "kernelspec": {
   "display_name": "Python 3",
   "language": "python",
   "name": "python3"
  },
  "language_info": {
   "codemirror_mode": {
    "name": "ipython",
    "version": 3
   },
   "file_extension": ".py",
   "mimetype": "text/x-python",
   "name": "python",
   "nbconvert_exporter": "python",
   "pygments_lexer": "ipython3",
   "version": "3.8.5"
  }
 },
 "nbformat": 4,
 "nbformat_minor": 4
}
