{
 "cells": [
  {
   "cell_type": "code",
   "execution_count": 1,
   "metadata": {},
   "outputs": [],
   "source": [
    "돌의내구도 = [1, 2, 1, 4]\n",
    "독 = [{\n",
    "    \"이름\" : \"루비독\",\n",
    "    \"나이\" : \"95년생\",\n",
    "    \"점프력\" : \"3\",\n",
    "    \"몸무게\" : \"4\",\n",
    "    },{\n",
    "    \"이름\" : \"피치독\",\n",
    "    \"나이\" : \"95년생\",\n",
    "    \"점프력\" : \"3\",\n",
    "    \"몸무게\" : \"3\",\n",
    "    },{\n",
    "    \"이름\" : \"씨-독\",\n",
    "    \"나이\" : \"72년생\",\n",
    "    \"점프력\" : \"2\",\n",
    "    \"몸무게\" : \"1\",\n",
    "    },{\n",
    "    \"이름\" : \"코볼독\",\n",
    "    \"나이\" : \"59년생\",\n",
    "    \"점프력\" : \"1\",\n",
    "    \"몸무게\" : \"1\",\n",
    "    }\n",
    "]\n"
   ]
  },
  {
   "cell_type": "code",
   "execution_count": 2,
   "metadata": {},
   "outputs": [
    {
     "name": "stdout",
     "output_type": "stream",
     "text": [
      "['루비독', '피치독', '씨-독', '코볼독']\n"
     ]
    }
   ],
   "source": [
    "def 징검다리를건너라(돌의내구도, 독):\n",
    "    answer = [ 독[i]['이름'] for i in range(len(독))]\n",
    "    return answer\n",
    "\n",
    "print (징검다리를건너라(돌의내구도, 독))"
   ]
  },
  {
   "cell_type": "code",
   "execution_count": 3,
   "metadata": {},
   "outputs": [
    {
     "name": "stdout",
     "output_type": "stream",
     "text": [
      "['씨-독']\n"
     ]
    }
   ],
   "source": [
    "def 징검다리를건너라(돌의내구도, 독):\n",
    "    answer = [i['이름'] for i in 독]\n",
    "    for i in 독:\n",
    "        독의위치 = 0\n",
    "        while 독의위치 < len(돌의내구도)-1:\n",
    "            독의위치 += int(i['점프력'])\n",
    "            돌의내구도[독의위치-1] -= int(i['몸무게'])\n",
    "            if 돌의내구도[독의위치-1] < 0:\n",
    "                answer[answer.index(i['이름'])] = 'fail'\n",
    "                break\n",
    "    return [i for i in answer if i != 'fail']\n",
    "\n",
    "print (징검다리를건너라(돌의내구도.copy(), 독.copy()))"
   ]
  },
  {
   "cell_type": "code",
   "execution_count": 4,
   "metadata": {},
   "outputs": [
    {
     "data": {
      "text/plain": [
       "100"
      ]
     },
     "execution_count": 4,
     "metadata": {},
     "output_type": "execute_result"
    }
   ],
   "source": [
    "xx= 100\n",
    "\n",
    "def change(x):\n",
    "    x += 1000\n",
    "change(xx)\n",
    "xx"
   ]
  },
  {
   "cell_type": "code",
   "execution_count": 5,
   "metadata": {},
   "outputs": [
    {
     "name": "stdout",
     "output_type": "stream",
     "text": [
      "['씨-독']\n"
     ]
    }
   ],
   "source": [
    "# remobe 0(N)\n",
    "# del 0(1)\n",
    "\n",
    "def 징검다리를건너라(돌의내구도, 독):\n",
    "    answer = [i['이름'] for i in 독]\n",
    "    for i in 독:\n",
    "        독의위치 = 0\n",
    "        while 독의위치 < len(돌의내구도)-1:\n",
    "            독의위치 += int(i['점프력'])\n",
    "            돌의내구도[독의위치-1] -= int(i['몸무게'])\n",
    "            if 돌의내구도[독의위치-1] < 0:\n",
    "                del answer[answer.index(i['이름'])]\n",
    "                break\n",
    "    return answer\n",
    "\n",
    "print (징검다리를건너라(돌의내구도.copy(), 독.copy()))"
   ]
  },
  {
   "cell_type": "code",
   "execution_count": 6,
   "metadata": {},
   "outputs": [
    {
     "name": "stdout",
     "output_type": "stream",
     "text": [
      "['루비독', '씨-독']\n"
     ]
    }
   ],
   "source": [
    "# remobe 0(N)\n",
    "# del 0(1)\n",
    "\n",
    "돌의내구도 = [5,3,4,1,3,8,3]\n",
    "def 징검다리를건너라(돌의내구도, 독):\n",
    "    answer = [i['이름'] for i in 독]\n",
    "    for i in 독:\n",
    "        독의위치 = 0\n",
    "        while 독의위치 < len(돌의내구도)-1:\n",
    "            독의위치 += int(i['점프력'])\n",
    "            돌의내구도[독의위치-1] -= int(i['몸무게'])\n",
    "            if 돌의내구도[독의위치-1] < 0:\n",
    "                del answer[answer.index(i['이름'])]\n",
    "                break\n",
    "    return answer\n",
    "\n",
    "print (징검다리를건너라(돌의내구도.copy(), 독.copy()))"
   ]
  },
  {
   "cell_type": "code",
   "execution_count": 7,
   "metadata": {},
   "outputs": [
    {
     "data": {
      "text/plain": [
       "'[{\"이름\": \"루비독\", \"나이\": \"95년생\", \"점프력\": \"3\", \"몸무게\": \"4\"}, {\"이름\": \"피치독\", \"나이\": \"95년생\", \"점프력\": \"3\", \"몸무게\": \"3\"}, {\"이름\": \"씨-독\", \"나이\": \"72년생\", \"점프력\": \"2\", \"몸무게\": \"1\"}, {\"이름\": \"코볼독\", \"나이\": \"59년생\", \"점프력\": \"1\", \"몸무게\": \"1\"}]'"
      ]
     },
     "execution_count": 7,
     "metadata": {},
     "output_type": "execute_result"
    }
   ],
   "source": [
    "import json\n",
    "JSON독 = json.dumps(독, ensure_ascii = False)\n",
    "JSON독"
   ]
  },
  {
   "cell_type": "code",
   "execution_count": 8,
   "metadata": {},
   "outputs": [
    {
     "data": {
      "text/plain": [
       "{'이름': '루비독', '나이': '95년생', '점프력': '3', '몸무게': '4'}"
      ]
     },
     "execution_count": 8,
     "metadata": {},
     "output_type": "execute_result"
    }
   ],
   "source": [
    "JSON독 = json.loads(JSON독)\n",
    "JSON독[0]"
   ]
  },
  {
   "cell_type": "code",
   "execution_count": 9,
   "metadata": {},
   "outputs": [
    {
     "data": {
      "text/plain": [
       "{'이름': '루비독', '나이': '95년생', '점프력': '3', '몸무게': '4'}"
      ]
     },
     "execution_count": 9,
     "metadata": {},
     "output_type": "execute_result"
    }
   ],
   "source": [
    "JSON독[0]"
   ]
  },
  {
   "cell_type": "code",
   "execution_count": null,
   "metadata": {},
   "outputs": [],
   "source": []
  }
 ],
 "metadata": {
  "kernelspec": {
   "display_name": "Python 3",
   "language": "python",
   "name": "python3"
  },
  "language_info": {
   "codemirror_mode": {
    "name": "ipython",
    "version": 3
   },
   "file_extension": ".py",
   "mimetype": "text/x-python",
   "name": "python",
   "nbconvert_exporter": "python",
   "pygments_lexer": "ipython3",
   "version": "3.8.5"
  }
 },
 "nbformat": 4,
 "nbformat_minor": 4
}
