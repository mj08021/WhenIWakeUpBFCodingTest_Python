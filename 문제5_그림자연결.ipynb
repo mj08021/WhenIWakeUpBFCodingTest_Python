{
 "cells": [
  {
   "cell_type": "code",
   "execution_count": 1,
   "metadata": {},
   "outputs": [],
   "source": [
    "graph = {100: set([67, 66]),\n",
    "         67: set([100, 82, 63]),\n",
    "         66: set([100, 73, 69]),\n",
    "         82: set([67, 61, 79]),\n",
    "         63: set([67]),\n",
    "         73: set([66]),\n",
    "         69: set([66, 65, 81]),\n",
    "         61: set([82]),\n",
    "         79: set([82, 87, 77]),\n",
    "         65: set([69, 84, 99]),\n",
    "         81: set([69]),\n",
    "         87: set([79, 31, 78]),\n",
    "         77: set([79]),\n",
    "         84: set([65]),\n",
    "         99: set([65]),\n",
    "         31: set([87]),\n",
    "         78: set([87])}"
   ]
  },
  {
   "cell_type": "code",
   "execution_count": 2,
   "metadata": {},
   "outputs": [
    {
     "data": {
      "text/plain": [
       "66"
      ]
     },
     "execution_count": 2,
     "metadata": {},
     "output_type": "execute_result"
    }
   ],
   "source": [
    "min(graph[100])"
   ]
  },
  {
   "cell_type": "code",
   "execution_count": 4,
   "metadata": {},
   "outputs": [
    {
     "name": "stdout",
     "output_type": "stream",
     "text": [
      "visited : [100]\n",
      "stack : [66, 67]\n",
      "visited : [100, 67]\n",
      "stack : [66, 82, 63]\n",
      "visited : [100, 67, 63]\n",
      "stack : [66, 82]\n",
      "visited : [100, 67, 63, 82]\n",
      "stack : [66, 61, 79]\n",
      "visited : [100, 67, 63, 82, 79]\n",
      "stack : [66, 61, 77, 87]\n",
      "visited : [100, 67, 63, 82, 79, 87]\n",
      "stack : [66, 61, 77, 78, 31]\n",
      "visited : [100, 67, 63, 82, 79, 87, 31]\n",
      "stack : [66, 61, 77, 78]\n",
      "visited : [100, 67, 63, 82, 79, 87, 31, 78]\n",
      "stack : [66, 61, 77]\n",
      "visited : [100, 67, 63, 82, 79, 87, 31, 78, 77]\n",
      "stack : [66, 61]\n",
      "visited : [100, 67, 63, 82, 79, 87, 31, 78, 77, 61]\n",
      "stack : [66]\n",
      "visited : [100, 67, 63, 82, 79, 87, 31, 78, 77, 61, 66]\n",
      "stack : [73, 69]\n",
      "visited : [100, 67, 63, 82, 79, 87, 31, 78, 77, 61, 66, 69]\n",
      "stack : [73, 65, 81]\n",
      "visited : [100, 67, 63, 82, 79, 87, 31, 78, 77, 61, 66, 69, 81]\n",
      "stack : [73, 65]\n",
      "visited : [100, 67, 63, 82, 79, 87, 31, 78, 77, 61, 66, 69, 81, 65]\n",
      "stack : [73, 99, 84]\n",
      "visited : [100, 67, 63, 82, 79, 87, 31, 78, 77, 61, 66, 69, 81, 65, 84]\n",
      "stack : [73, 99]\n",
      "visited : [100, 67, 63, 82, 79, 87, 31, 78, 77, 61, 66, 69, 81, 65, 84, 99]\n",
      "stack : [73]\n",
      "visited : [100, 67, 63, 82, 79, 87, 31, 78, 77, 61, 66, 69, 81, 65, 84, 99, 73]\n",
      "stack : []\n"
     ]
    },
    {
     "data": {
      "text/plain": [
       "[100, 67, 63, 82, 79, 87, 31, 78, 77, 61, 66, 69, 81, 65, 84, 99, 73]"
      ]
     },
     "execution_count": 4,
     "metadata": {},
     "output_type": "execute_result"
    }
   ],
   "source": [
    "def 깊이우선탐색(graph, start):\n",
    "    방문 = []\n",
    "    stack = [start]\n",
    "    \n",
    "    while stack:\n",
    "        n = stack.pop()\n",
    "        if n not in 방문:\n",
    "            방문.append(n)\n",
    "            차집합 = graph[n] - set(방문)\n",
    "            stack += 차집합\n",
    "            print(f'visited : {방문}')\n",
    "            print(f'stack : {stack}')\n",
    "                  \n",
    "    return 방문\n",
    "\n",
    "깊이우선탐색(graph, 100)"
   ]
  },
  {
   "cell_type": "code",
   "execution_count": 5,
   "metadata": {},
   "outputs": [
    {
     "name": "stdout",
     "output_type": "stream",
     "text": [
      "visited : [100]\n",
      "stack : [66]\n",
      "visited : [100, 66]\n",
      "stack : [69]\n",
      "visited : [100, 66, 69]\n",
      "stack : [65]\n",
      "visited : [100, 66, 69, 65]\n",
      "stack : [84]\n"
     ]
    },
    {
     "data": {
      "text/plain": [
       "[100, 66, 69, 65, 84]"
      ]
     },
     "execution_count": 5,
     "metadata": {},
     "output_type": "execute_result"
    }
   ],
   "source": [
    "def 깊이우선탐색(graph, start):\n",
    "    방문 = []\n",
    "    stack = [start]\n",
    "    \n",
    "    while stack:\n",
    "        n = stack.pop()\n",
    "        if n not in 방문:\n",
    "            방문.append(n)\n",
    "            차집합 = graph[n] - set(방문)\n",
    "            if len(차집합) == 0:\n",
    "                방문 += stack\n",
    "                break\n",
    "            stack.append(min(차집합))\n",
    "            print(f'visited : {방문}')\n",
    "            print(f'stack : {stack}')\n",
    "                  \n",
    "    return 방문\n",
    "\n",
    "깊이우선탐색(graph, 100)"
   ]
  },
  {
   "cell_type": "code",
   "execution_count": 9,
   "metadata": {},
   "outputs": [
    {
     "data": {
      "text/plain": [
       "'BEAT'"
      ]
     },
     "execution_count": 9,
     "metadata": {},
     "output_type": "execute_result"
    }
   ],
   "source": [
    "''.join([chr(i) for i in [66,69,65,84]])"
   ]
  },
  {
   "cell_type": "code",
   "execution_count": 8,
   "metadata": {},
   "outputs": [
    {
     "data": {
      "text/plain": [
       "'CROWN'"
      ]
     },
     "execution_count": 8,
     "metadata": {},
     "output_type": "execute_result"
    }
   ],
   "source": [
    "''.join([chr(i) for i in [67,82,79,87, 78]])"
   ]
  },
  {
   "cell_type": "code",
   "execution_count": null,
   "metadata": {},
   "outputs": [],
   "source": []
  }
 ],
 "metadata": {
  "kernelspec": {
   "display_name": "Python 3",
   "language": "python",
   "name": "python3"
  },
  "language_info": {
   "codemirror_mode": {
    "name": "ipython",
    "version": 3
   },
   "file_extension": ".py",
   "mimetype": "text/x-python",
   "name": "python",
   "nbconvert_exporter": "python",
   "pygments_lexer": "ipython3",
   "version": "3.8.5"
  }
 },
 "nbformat": 4,
 "nbformat_minor": 4
}
