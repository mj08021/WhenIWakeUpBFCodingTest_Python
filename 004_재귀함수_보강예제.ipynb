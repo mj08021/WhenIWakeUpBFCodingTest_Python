{
 "cells": [
  {
   "cell_type": "code",
   "execution_count": 3,
   "metadata": {},
   "outputs": [
    {
     "name": "stdout",
     "output_type": "stream",
     "text": [
      "10\n",
      "9\n",
      "8\n",
      "7\n",
      "6\n",
      "5\n",
      "4\n",
      "3\n",
      "2\n",
      "1\n",
      "끝!!\n"
     ]
    }
   ],
   "source": [
    "# def helloworld():\n",
    "#     return helloworld()\n",
    "\n",
    "# helloworld()\n",
    "\n",
    "def 숫자세기(숫자):\n",
    "    if 숫자 <= 0:\n",
    "        print('끝!!')\n",
    "    else:\n",
    "        print(숫자)\n",
    "        return 숫자세기(숫자-1)\n",
    "\n",
    "숫자세기(10)"
   ]
  },
  {
   "cell_type": "code",
   "execution_count": 4,
   "metadata": {},
   "outputs": [
    {
     "name": "stdout",
     "output_type": "stream",
     "text": [
      "0\n",
      "1\n",
      "1\n",
      "2\n",
      "3\n",
      "5\n",
      "8\n",
      "13\n",
      "21\n",
      "34\n",
      "55\n"
     ]
    }
   ],
   "source": [
    "# 피보나치\n",
    "# 0 1 1 2 3 5 8 13 21\n",
    "\n",
    "a = 0\n",
    "b = 1\n",
    "print(a)\n",
    "for i in range(10):\n",
    "    print(b)\n",
    "    a, b = b, a + b"
   ]
  },
  {
   "cell_type": "code",
   "execution_count": 5,
   "metadata": {},
   "outputs": [
    {
     "name": "stdout",
     "output_type": "stream",
     "text": [
      "8\n"
     ]
    }
   ],
   "source": [
    "# f(n) = f(n-1) + f(n-2)\n",
    "def 피보나치(숫자):\n",
    "    if 숫자 == 0 or 숫자 == 1:\n",
    "        return 1\n",
    "    return 피보나치(숫자-1) + 피보나치(숫자-2)\n",
    "\n",
    "print(피보나치(5))"
   ]
  },
  {
   "cell_type": "code",
   "execution_count": 6,
   "metadata": {},
   "outputs": [
    {
     "name": "stdout",
     "output_type": "stream",
     "text": [
      "120\n"
     ]
    }
   ],
   "source": [
    "def f(n):\n",
    "    if n <= 1:\n",
    "        return 1\n",
    "    else:\n",
    "        return n * f(n-1)\n",
    "\n",
    "print(f(5))"
   ]
  },
  {
   "cell_type": "code",
   "execution_count": 7,
   "metadata": {},
   "outputs": [
    {
     "name": "stdout",
     "output_type": "stream",
     "text": [
      "1000\n"
     ]
    }
   ],
   "source": [
    "s = 0\n",
    "for i in [100, 200, 300, 400]:\n",
    "    s += i\n",
    "print(s)"
   ]
  },
  {
   "cell_type": "code",
   "execution_count": 8,
   "metadata": {},
   "outputs": [
    {
     "data": {
      "text/plain": [
       "1000"
      ]
     },
     "execution_count": 8,
     "metadata": {},
     "output_type": "execute_result"
    }
   ],
   "source": [
    "def s(I):\n",
    "    if len(I) == 1:\n",
    "        return I[0]\n",
    "    else :\n",
    "        return I[0] + s(I[1:])\n",
    "\n",
    "s([100, 200, 300, 400])"
   ]
  },
  {
   "cell_type": "code",
   "execution_count": 10,
   "metadata": {},
   "outputs": [
    {
     "name": "stdout",
     "output_type": "stream",
     "text": [
      "64\n",
      "64\n"
     ]
    }
   ],
   "source": [
    "print(2**6)\n",
    "result = 1\n",
    "for i in range(6):\n",
    "    result *= 2\n",
    "print(result)"
   ]
  },
  {
   "cell_type": "code",
   "execution_count": 11,
   "metadata": {},
   "outputs": [
    {
     "name": "stdout",
     "output_type": "stream",
     "text": [
      "64\n"
     ]
    }
   ],
   "source": [
    "def f(n, e):\n",
    "    result = 1\n",
    "    for i in range(e):\n",
    "        result *=n\n",
    "    return result\n",
    "\n",
    "print(f(2,6))"
   ]
  },
  {
   "cell_type": "code",
   "execution_count": 12,
   "metadata": {},
   "outputs": [
    {
     "data": {
      "text/plain": [
       "64"
      ]
     },
     "execution_count": 12,
     "metadata": {},
     "output_type": "execute_result"
    }
   ],
   "source": [
    "def f(n, e):\n",
    "    if e == 1:\n",
    "        return n\n",
    "    else:\n",
    "        return n * f(n, e-1)\n",
    "    \n",
    "f(2, 6)"
   ]
  },
  {
   "cell_type": "code",
   "execution_count": 14,
   "metadata": {},
   "outputs": [
    {
     "data": {
      "text/plain": [
       "'10,000,000'"
      ]
     },
     "execution_count": 14,
     "metadata": {},
     "output_type": "execute_result"
    }
   ],
   "source": [
    "def comma(s):\n",
    "    if len(s) < 3:\n",
    "        return s\n",
    "    else:\n",
    "        return comma(s[:len(s)-3]) + ',' + s[len(s)-3:]\n",
    "comma('10000000')"
   ]
  },
  {
   "cell_type": "code",
   "execution_count": 15,
   "metadata": {},
   "outputs": [
    {
     "name": "stdout",
     "output_type": "stream",
     "text": [
      "9,999,999,999,999\n"
     ]
    }
   ],
   "source": [
    "n = 9999999999999\n",
    "n = format(n, ',')\n",
    "print(n)"
   ]
  },
  {
   "cell_type": "code",
   "execution_count": null,
   "metadata": {},
   "outputs": [],
   "source": []
  }
 ],
 "metadata": {
  "kernelspec": {
   "display_name": "Python 3",
   "language": "python",
   "name": "python3"
  },
  "language_info": {
   "codemirror_mode": {
    "name": "ipython",
    "version": 3
   },
   "file_extension": ".py",
   "mimetype": "text/x-python",
   "name": "python",
   "nbconvert_exporter": "python",
   "pygments_lexer": "ipython3",
   "version": "3.8.5"
  }
 },
 "nbformat": 4,
 "nbformat_minor": 4
}
