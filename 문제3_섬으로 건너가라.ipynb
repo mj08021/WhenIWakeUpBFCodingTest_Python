{
 "cells": [
  {
   "cell_type": "code",
   "execution_count": 1,
   "metadata": {},
   "outputs": [],
   "source": [
    "대기인원 = 14000605\n",
    "#대기인원 = 1200202\n",
    "\n",
    "# 9시        25   25\n",
    "# 9시 10분   15   40\n",
    "# 9시 20분   15   55\n",
    "# 9시 30분   15   70\n",
    "# 9시 40분   15   85\n",
    "# 9시 50분   15   100\n",
    "\n",
    "# 100명씩 12시간 -> 1200명"
   ]
  },
  {
   "cell_type": "code",
   "execution_count": 2,
   "metadata": {},
   "outputs": [],
   "source": [
    "대기일 = 대기인원 // 1200"
   ]
  },
  {
   "cell_type": "code",
   "execution_count": 3,
   "metadata": {},
   "outputs": [
    {
     "name": "stdout",
     "output_type": "stream",
     "text": [
      "1024\n",
      "512\n",
      "256\n",
      "128\n",
      "64\n",
      "32\n",
      "16\n",
      "8\n",
      "4\n",
      "2\n"
     ]
    },
    {
     "data": {
      "text/plain": [
       "2046"
      ]
     },
     "execution_count": 3,
     "metadata": {},
     "output_type": "execute_result"
    }
   ],
   "source": [
    "일년일수 = 0\n",
    "for i in range(10,0,-1):\n",
    "    print(2**i)\n",
    "    일년일수 += 2 ** i\n",
    "일년일수"
   ]
  },
  {
   "cell_type": "code",
   "execution_count": 4,
   "metadata": {},
   "outputs": [
    {
     "data": {
      "text/plain": [
       "5"
      ]
     },
     "execution_count": 4,
     "metadata": {},
     "output_type": "execute_result"
    }
   ],
   "source": [
    "대기일 // 일년일수"
   ]
  },
  {
   "cell_type": "code",
   "execution_count": 5,
   "metadata": {},
   "outputs": [
    {
     "data": {
      "text/plain": [
       "1437"
      ]
     },
     "execution_count": 5,
     "metadata": {},
     "output_type": "execute_result"
    }
   ],
   "source": [
    "남은일수 = 대기일 % 일년일수\n",
    "남은일수"
   ]
  },
  {
   "cell_type": "code",
   "execution_count": 6,
   "metadata": {},
   "outputs": [
    {
     "data": {
      "text/plain": [
       "413"
      ]
     },
     "execution_count": 6,
     "metadata": {},
     "output_type": "execute_result"
    }
   ],
   "source": [
    "월별일수누적값 = 0\n",
    "월 = 0\n",
    "for i in range(10,0,-1):\n",
    "    차감일 = 월별일수누적값\n",
    "    월별일수누적값 += 2**i\n",
    "    월 += 1\n",
    "    if  월별일수누적값 > 남은일수:\n",
    "        break\n",
    "        \n",
    "# 월\n",
    "\n",
    "남은일수 - 차감일"
   ]
  },
  {
   "cell_type": "code",
   "execution_count": 7,
   "metadata": {},
   "outputs": [
    {
     "data": {
      "text/plain": [
       "205"
      ]
     },
     "execution_count": 7,
     "metadata": {},
     "output_type": "execute_result"
    }
   ],
   "source": [
    "대기인원 % 1200"
   ]
  },
  {
   "cell_type": "code",
   "execution_count": 8,
   "metadata": {},
   "outputs": [
    {
     "data": {
      "text/plain": [
       "11"
      ]
     },
     "execution_count": 8,
     "metadata": {},
     "output_type": "execute_result"
    }
   ],
   "source": [
    "최종남은인원 = 대기인원 % 1200\n",
    "최종남은인원 // 100 + 9"
   ]
  },
  {
   "cell_type": "code",
   "execution_count": 10,
   "metadata": {},
   "outputs": [
    {
     "data": {
      "text/plain": [
       "0"
      ]
     },
     "execution_count": 10,
     "metadata": {},
     "output_type": "execute_result"
    }
   ],
   "source": [
    "출발분 = [25, 40, 55, 70, 85, 100]\n",
    "몇분에탈지계산 = 최종남은인원 % 100 + 1\n",
    "for i in  출발분 :\n",
    "    if i > 몇분에탈지계산:\n",
    "        당일출발_분 = 출발분.index(i) * 10\n",
    "        break\n",
    "당일출발_분"
   ]
  },
  {
   "cell_type": "code",
   "execution_count": 11,
   "metadata": {},
   "outputs": [
    {
     "data": {
      "text/plain": [
       "datetime.datetime(2020, 10, 27, 21, 55, 31, 710521)"
      ]
     },
     "execution_count": 11,
     "metadata": {},
     "output_type": "execute_result"
    }
   ],
   "source": [
    "import datetime\n",
    "오늘시간 = datetime.datetime.today()\n",
    "오늘시간"
   ]
  },
  {
   "cell_type": "code",
   "execution_count": 12,
   "metadata": {},
   "outputs": [
    {
     "data": {
      "text/plain": [
       "2020"
      ]
     },
     "execution_count": 12,
     "metadata": {},
     "output_type": "execute_result"
    }
   ],
   "source": [
    "오늘시간.year"
   ]
  },
  {
   "cell_type": "code",
   "execution_count": 13,
   "metadata": {},
   "outputs": [
    {
     "data": {
      "text/plain": [
       "'01:01'"
      ]
     },
     "execution_count": 13,
     "metadata": {},
     "output_type": "execute_result"
    }
   ],
   "source": [
    "시간 = 1\n",
    "분 = 1\n",
    "f'{시간:0>2}:{분:0>2}'"
   ]
  },
  {
   "cell_type": "code",
   "execution_count": 14,
   "metadata": {},
   "outputs": [
    {
     "data": {
      "text/plain": [
       "'0000000000hello word'"
      ]
     },
     "execution_count": 14,
     "metadata": {},
     "output_type": "execute_result"
    }
   ],
   "source": [
    "'hello word'.zfill(20)"
   ]
  },
  {
   "cell_type": "code",
   "execution_count": 22,
   "metadata": {},
   "outputs": [
    {
     "data": {
      "text/plain": [
       "'2025년 2월 413일 11시 0분 출발'"
      ]
     },
     "execution_count": 22,
     "metadata": {},
     "output_type": "execute_result"
    }
   ],
   "source": [
    "import datetime\n",
    "\n",
    "오늘시간 = datetime.datetime.today()\n",
    "\n",
    "대기인원 = 14000605\n",
    "\n",
    "def solution(대기인원):\n",
    "    일년일수 = 0\n",
    "    for i in range(10,0,-1):\n",
    "        일년일수 += 2 ** i\n",
    "    년 = (대기인원 // 1200) // 일년일수\n",
    "    남은일수 = (대기인원 // 1200) % 일년일수 \n",
    "    \n",
    "    월별일수누적값 = 0\n",
    "    월 = 0\n",
    "    for i in range(10,0,-1):\n",
    "        차감일 = 월별일수누적값\n",
    "        월별일수누적값 += 2**i\n",
    "        월 += 1\n",
    "        if 월별일수누적값 > 남은일수:\n",
    "            break\n",
    "    일 = 남은일수 - 차감일\n",
    "    최종남은인원 = 대기인원 % 1200\n",
    "    시 = 최종남은인원 // 100 + 9\n",
    "    \n",
    "    출발분 = [25, 40, 55, 70, 85, 100]\n",
    "    해당시간에남은인원 = 최종남은인원 % 100 + 1\n",
    "    for i in  출발분 :\n",
    "        if i > 해당시간에남은인원:\n",
    "            분 = 출발분.index(i) * 10\n",
    "            break\n",
    "            \n",
    "    if 최종남은인원 % 100 == 99:\n",
    "        시 += 1\n",
    "        분 = 0\n",
    "            \n",
    "    if(오늘시간.minute + 분 > 60):\n",
    "        분 = (오늘시간.minute + 분) -60\n",
    "        시 += 1\n",
    "    \n",
    "    # print(년, 월, 일, 시, 분)\n",
    "    return f'{년+2020}년 {월}월 {일}일 {시}시 {분}분 출발'\n",
    "    \n",
    "solution(대기인원)"
   ]
  },
  {
   "cell_type": "code",
   "execution_count": null,
   "metadata": {},
   "outputs": [],
   "source": []
  }
 ],
 "metadata": {
  "kernelspec": {
   "display_name": "Python 3",
   "language": "python",
   "name": "python3"
  },
  "language_info": {
   "codemirror_mode": {
    "name": "ipython",
    "version": 3
   },
   "file_extension": ".py",
   "mimetype": "text/x-python",
   "name": "python",
   "nbconvert_exporter": "python",
   "pygments_lexer": "ipython3",
   "version": "3.8.5"
  }
 },
 "nbformat": 4,
 "nbformat_minor": 4
}
