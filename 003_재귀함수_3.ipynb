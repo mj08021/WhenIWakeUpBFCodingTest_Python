{
 "cells": [
  {
   "cell_type": "markdown",
   "metadata": {},
   "source": [
    "## 문제 접근 방법\n",
    "\n",
    "1. 반복문의 경우는 Bottom-up(작은 문제에서 출발)\n",
    "2. 재귀의 경우는 Top-down(큰 문제에서 출발)\n",
    "\n",
    "* 재귀의 경우에는 꼭 종료 조건이 있어야 합니다."
   ]
  },
  {
   "cell_type": "code",
   "execution_count": 2,
   "metadata": {},
   "outputs": [
    {
     "name": "stdout",
     "output_type": "stream",
     "text": [
      "55\n"
     ]
    }
   ],
   "source": [
    "x = 0\n",
    "for i in range(11):\n",
    "    x += i\n",
    "print(x)"
   ]
  },
  {
   "cell_type": "code",
   "execution_count": 3,
   "metadata": {},
   "outputs": [
    {
     "name": "stdout",
     "output_type": "stream",
     "text": [
      "55\n"
     ]
    }
   ],
   "source": [
    "def f(n):\n",
    "    if n <= 1:\n",
    "        return 1\n",
    "    else:\n",
    "        return n + f(n-1)\n",
    "print(f(10))"
   ]
  },
  {
   "cell_type": "code",
   "execution_count": 5,
   "metadata": {},
   "outputs": [
    {
     "name": "stdout",
     "output_type": "stream",
     "text": [
      "##hi\n",
      "##hi\n",
      "hello world\n",
      "##daeta\n",
      "##exit\n",
      "##exit\n"
     ]
    }
   ],
   "source": [
    "while True:\n",
    "    if input('##') == 'exit':\n",
    "        break\n",
    "    if input('##') == 'hi':\n",
    "        print('hello world')\n",
    "    else:\n",
    "        continue"
   ]
  },
  {
   "cell_type": "code",
   "execution_count": 7,
   "metadata": {},
   "outputs": [
    {
     "name": "stdout",
     "output_type": "stream",
     "text": [
      "##eeee\n",
      "##exit\n",
      "##exit\n"
     ]
    }
   ],
   "source": [
    "def console():\n",
    "    if input('##') == 'exit':\n",
    "        return None\n",
    "    if input('##') == 'hi':\n",
    "        print('hello world')\n",
    "    console()\n",
    "console()"
   ]
  },
  {
   "cell_type": "code",
   "execution_count": 10,
   "metadata": {},
   "outputs": [
    {
     "name": "stdout",
     "output_type": "stream",
     "text": [
      "2진수로 바꿀 숫자를 입력하세요:11\n",
      "1011\n"
     ]
    }
   ],
   "source": [
    "# 2진수 구하기 - 반복문\n",
    "# print(bin(11))\n",
    "# print(oct(11))\n",
    "# print(hex(11))\n",
    "\n",
    "x = int(input('2진수로 바꿀 숫자를 입력하세요:'))\n",
    "result = ''\n",
    "while True:\n",
    "    if x % 2 == 0:\n",
    "        result += '0'\n",
    "    else:\n",
    "        result += '1'\n",
    "    x = x //2\n",
    "    if x == 1:\n",
    "        result += str(x)\n",
    "        print(result[::-1])\n",
    "        break"
   ]
  },
  {
   "cell_type": "code",
   "execution_count": 12,
   "metadata": {},
   "outputs": [
    {
     "name": "stdout",
     "output_type": "stream",
     "text": [
      "1\n",
      "0\n",
      "1\n",
      "1\n"
     ]
    }
   ],
   "source": [
    "def 이진수구하기(입력값):\n",
    "    if  입력값 < 2:\n",
    "        print(입력값)\n",
    "    else:\n",
    "        이진수구하기(입력값//2)\n",
    "        print(입력값 % 2)\n",
    "이진수구하기(11)"
   ]
  },
  {
   "cell_type": "code",
   "execution_count": 14,
   "metadata": {},
   "outputs": [
    {
     "name": "stdout",
     "output_type": "stream",
     "text": [
      "1011\n"
     ]
    }
   ],
   "source": [
    "def 이진수구하기(입력값):\n",
    "    if  입력값 < 2:\n",
    "        return str(입력값)\n",
    "    else:\n",
    "        return str(이진수구하기(입력값//2)) + str(입력값%2)\n",
    "print(이진수구하기(11))"
   ]
  },
  {
   "cell_type": "code",
   "execution_count": 16,
   "metadata": {},
   "outputs": [
    {
     "name": "stdout",
     "output_type": "stream",
     "text": [
      "l\n",
      "e\n",
      "e\n",
      "h\n",
      "o\n",
      "j\n",
      "u\n",
      "n\n",
      "None\n"
     ]
    }
   ],
   "source": [
    "def 문자열뒤집기(문자열):\n",
    "    if 문자열 == '':\n",
    "        return None\n",
    "    else:\n",
    "        print(문자열[0])\n",
    "        문자열뒤집기(문자열[1:])\n",
    "        \n",
    "print(문자열뒤집기('leehojun'))"
   ]
  },
  {
   "cell_type": "code",
   "execution_count": 21,
   "metadata": {},
   "outputs": [
    {
     "name": "stdout",
     "output_type": "stream",
     "text": [
      "nujoheel\n"
     ]
    }
   ],
   "source": [
    "result = ''\n",
    "for i in 'leehojun':\n",
    "    result = i + result\n",
    "print(result)"
   ]
  },
  {
   "cell_type": "code",
   "execution_count": 22,
   "metadata": {},
   "outputs": [
    {
     "name": "stdout",
     "output_type": "stream",
     "text": [
      "8\n"
     ]
    }
   ],
   "source": [
    "x = 0\n",
    "for i in '2231':\n",
    "    x += int(i)\n",
    "print(x)"
   ]
  },
  {
   "cell_type": "code",
   "execution_count": 27,
   "metadata": {},
   "outputs": [
    {
     "name": "stdout",
     "output_type": "stream",
     "text": [
      "8\n"
     ]
    }
   ],
   "source": [
    "def 문자열뒤집기(문자열):\n",
    "    if 문자열 == '':\n",
    "        return 0\n",
    "    else:\n",
    "        return int(문자열[0]) + 문자열뒤집기(문자열[1:])\n",
    "        \n",
    "        \n",
    "print(문자열뒤집기('2231'))"
   ]
  },
  {
   "cell_type": "code",
   "execution_count": null,
   "metadata": {},
   "outputs": [],
   "source": []
  }
 ],
 "metadata": {
  "kernelspec": {
   "display_name": "Python 3",
   "language": "python",
   "name": "python3"
  },
  "language_info": {
   "codemirror_mode": {
    "name": "ipython",
    "version": 3
   },
   "file_extension": ".py",
   "mimetype": "text/x-python",
   "name": "python",
   "nbconvert_exporter": "python",
   "pygments_lexer": "ipython3",
   "version": "3.8.5"
  }
 },
 "nbformat": 4,
 "nbformat_minor": 4
}
