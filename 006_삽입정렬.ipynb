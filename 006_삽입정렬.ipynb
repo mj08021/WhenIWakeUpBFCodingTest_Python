{
 "cells": [
  {
   "cell_type": "code",
   "execution_count": 1,
   "metadata": {},
   "outputs": [
    {
     "name": "stdout",
     "output_type": "stream",
     "text": [
      "[5, 10, 11, 15, 32, 54, 66, 77]\n"
     ]
    }
   ],
   "source": [
    "# 삽입정렬\n",
    "입력값 = [5, 10, 66, 77, 54, 32, 11, 15]\n",
    "정렬된리스트 = []\n",
    "\n",
    "def 삽입값이_들어갈_인덱스(정렬된리스트, 삽입값):\n",
    "    for i in range(len(정렬된리스트)):\n",
    "        if 삽입값 < 정렬된리스트[i]:\n",
    "            return i\n",
    "    return len(정렬된리스트)\n",
    "\n",
    "\n",
    "while 입력값:\n",
    "    삽입값 = 입력값.pop(0)\n",
    "    인덱스 = 삽입값이_들어갈_인덱스(정렬된리스트, 삽입값)\n",
    "    정렬된리스트.insert(인덱스, 삽입값)\n",
    "\n",
    "print(정렬된리스트)"
   ]
  },
  {
   "cell_type": "code",
   "execution_count": null,
   "metadata": {},
   "outputs": [],
   "source": []
  }
 ],
 "metadata": {
  "kernelspec": {
   "display_name": "Python 3",
   "language": "python",
   "name": "python3"
  },
  "language_info": {
   "codemirror_mode": {
    "name": "ipython",
    "version": 3
   },
   "file_extension": ".py",
   "mimetype": "text/x-python",
   "name": "python",
   "nbconvert_exporter": "python",
   "pygments_lexer": "ipython3",
   "version": "3.8.5"
  }
 },
 "nbformat": 4,
 "nbformat_minor": 4
}
