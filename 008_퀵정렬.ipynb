{
 "cells": [
  {
   "cell_type": "markdown",
   "metadata": {},
   "source": [
    "<pre>\n",
    "# 퀵 정렬\n",
    "입력값 = [66, 77, 54, 32, 10, 5, 11, 15]\n",
    "\n",
    "[66, 77, 54, 32, 10, 5, 11, 15]\n",
    "[54, 32, 10, 5, 11, 15] + [66] + [77]\n",
    "[32, 10, 5, 11, 15] + [54] + [66] + [77]\n",
    "[10, 5, 11, 15] + [32] + [54] + [66] + [77]\n",
    "[5] + [10] + [11, 15] + [32] + [54] + [66] + [77]\n",
    "[5] + [10] + [11] + [15] + [32] + [54] + [66] + [77]\n",
    "</pre>"
   ]
  },
  {
   "cell_type": "code",
   "execution_count": 10,
   "metadata": {},
   "outputs": [
    {
     "name": "stdout",
     "output_type": "stream",
     "text": [
      "[5, 10, 11, 15, 32, 54, 66, 77]\n",
      "그룹_하나 : [54, 32, 10, 5, 11, 15], 피벗 : 66, 그룹_둘 : [77]\n",
      "그룹_하나 : [32, 10, 5, 11, 15], 피벗 : 54, 그룹_둘 : []\n",
      "그룹_하나 : [10, 5, 11, 15], 피벗 : 32, 그룹_둘 : []\n",
      "그룹_하나 : [5], 피벗 : 10, 그룹_둘 : [11, 15]\n",
      "그룹_하나 : [], 피벗 : 11, 그룹_둘 : [15]\n"
     ]
    }
   ],
   "source": [
    "g_list = []\n",
    "\n",
    "def 퀵정렬(입력리스트):\n",
    "    global g_list\n",
    "    입력리스트의길이 = len(입력리스트)\n",
    "    if 입력리스트의길이 <= 1:\n",
    "        return 입력리스트\n",
    "    피벗값 = 입력리스트.pop(0)\n",
    "    그룹_하나 = []\n",
    "    그룹_둘 = []\n",
    "    for i in range(입력리스트의길이-1):\n",
    "        if 입력리스트[i] < 피벗값:\n",
    "            그룹_하나.append(입력리스트[i])\n",
    "        else:\n",
    "            그룹_둘.append(입력리스트[i])\n",
    "    result = '그룹_하나 : {}, 피벗 : {}, 그룹_둘 : {}'.format(그룹_하나, 피벗값, 그룹_둘)\n",
    "    g_list.append(result)\n",
    "    return 퀵정렬(그룹_하나) + [피벗값] + 퀵정렬(그룹_둘)\n",
    "\n",
    "입력값 = [66, 77, 54, 32, 10, 5, 11, 15]\n",
    "print(퀵정렬(입력값))\n",
    "for i in g_list:\n",
    "    print(i)"
   ]
  },
  {
   "cell_type": "code",
   "execution_count": null,
   "metadata": {},
   "outputs": [],
   "source": []
  }
 ],
 "metadata": {
  "kernelspec": {
   "display_name": "Python 3",
   "language": "python",
   "name": "python3"
  },
  "language_info": {
   "codemirror_mode": {
    "name": "ipython",
    "version": 3
   },
   "file_extension": ".py",
   "mimetype": "text/x-python",
   "name": "python",
   "nbconvert_exporter": "python",
   "pygments_lexer": "ipython3",
   "version": "3.8.5"
  }
 },
 "nbformat": 4,
 "nbformat_minor": 4
}
